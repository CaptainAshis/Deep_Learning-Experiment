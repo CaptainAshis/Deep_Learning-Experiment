{
 "cells": [
  {
   "cell_type": "code",
   "execution_count": 4,
   "metadata": {
    "collapsed": true
   },
   "outputs": [],
   "source": [
    "import torch\n",
    "import numpy as np"
   ]
  },
  {
   "cell_type": "code",
   "execution_count": 5,
   "metadata": {
    "collapsed": true
   },
   "outputs": [],
   "source": [
    "x=[i for i in range(11)]"
   ]
  },
  {
   "cell_type": "code",
   "execution_count": 6,
   "metadata": {},
   "outputs": [
    {
     "data": {
      "text/plain": [
       "(11,)"
      ]
     },
     "execution_count": 6,
     "metadata": {},
     "output_type": "execute_result"
    }
   ],
   "source": [
    "x=np.array(x,dtype=np.float32)\n",
    "x.shape"
   ]
  },
  {
   "cell_type": "code",
   "execution_count": 27,
   "metadata": {
    "collapsed": true
   },
   "outputs": [],
   "source": [
    "x=x.reshape(-1,1)"
   ]
  },
  {
   "cell_type": "code",
   "execution_count": 9,
   "metadata": {},
   "outputs": [],
   "source": [
    "y=[2*i+1 for i in x]\n",
    "y=np.array(y,dtype=np.float32)"
   ]
  },
  {
   "cell_type": "code",
   "execution_count": 10,
   "metadata": {
    "collapsed": true
   },
   "outputs": [],
   "source": [
    "y=y.reshape(-1,1)"
   ]
  },
  {
   "cell_type": "code",
   "execution_count": 12,
   "metadata": {},
   "outputs": [
    {
     "data": {
      "text/plain": [
       "(11, 1)"
      ]
     },
     "execution_count": 12,
     "metadata": {},
     "output_type": "execute_result"
    }
   ],
   "source": [
    "y.shape"
   ]
  },
  {
   "cell_type": "code",
   "execution_count": 14,
   "metadata": {
    "collapsed": true
   },
   "outputs": [],
   "source": [
    "import torch.nn as nn #Helps in building our linear regression model\n",
    "from torch.autograd import Variable"
   ]
  },
  {
   "cell_type": "code",
   "execution_count": 15,
   "metadata": {
    "collapsed": true
   },
   "outputs": [],
   "source": [
    "class LinearRegressionModel(nn.Module):\n",
    "    def __init__(self,input_size,output_size):\n",
    "        super(LinearRegressionModel,self).__init__()\n",
    "        self.Linear=nn.Linear(input_dim,output_dim)\n",
    "        \n",
    "    def forward(self,x):\n",
    "        out=self.Linear(x)\n",
    "        return out\n",
    "    "
   ]
  },
  {
   "cell_type": "code",
   "execution_count": 16,
   "metadata": {
    "collapsed": true
   },
   "outputs": [],
   "source": [
    "input_dim=1;output_dim=1\n",
    "model=LinearRegressionModel(input_dim,output_dim)"
   ]
  },
  {
   "cell_type": "code",
   "execution_count": 17,
   "metadata": {
    "collapsed": true
   },
   "outputs": [],
   "source": [
    "criterion=nn.MSELoss()\n",
    "criterion()"
   ]
  },
  {
   "cell_type": "code",
   "execution_count": 22,
   "metadata": {},
   "outputs": [],
   "source": [
    "lr=.01\n",
    "optimizer=torch.optim.SGD(model.parameters(),lr=lr)"
   ]
  },
  {
   "cell_type": "code",
   "execution_count": 34,
   "metadata": {},
   "outputs": [
    {
     "name": "stdout",
     "output_type": "stream",
     "text": [
      "epoch 1,loss 0.0016315259272232652\n",
      "epoch 2,loss 0.0016133084427565336\n",
      "epoch 3,loss 0.0015953128458932042\n",
      "epoch 4,loss 0.0015774951316416264\n",
      "epoch 5,loss 0.0015598710160702467\n",
      "epoch 6,loss 0.001542450045235455\n",
      "epoch 7,loss 0.0015252376906573772\n",
      "epoch 8,loss 0.001508189714513719\n",
      "epoch 9,loss 0.0014913371996954083\n",
      "epoch 10,loss 0.0014747177483513951\n",
      "epoch 11,loss 0.001458222744986415\n",
      "epoch 12,loss 0.0014419540530070662\n",
      "epoch 13,loss 0.0014258642913773656\n",
      "epoch 14,loss 0.001409929129295051\n",
      "epoch 15,loss 0.0013941898941993713\n",
      "epoch 16,loss 0.001378609100356698\n",
      "epoch 17,loss 0.0013632270274683833\n",
      "epoch 18,loss 0.00134799734223634\n",
      "epoch 19,loss 0.001332932384684682\n",
      "epoch 20,loss 0.0013180618407204747\n",
      "epoch 21,loss 0.001303332974202931\n",
      "epoch 22,loss 0.0012887964257970452\n",
      "epoch 23,loss 0.0012744003906846046\n",
      "epoch 24,loss 0.0012601787457242608\n",
      "epoch 25,loss 0.00124610576312989\n",
      "epoch 26,loss 0.0012321937829256058\n",
      "epoch 27,loss 0.0012184069491922855\n",
      "epoch 28,loss 0.0012048074277117848\n",
      "epoch 29,loss 0.0011913711205124855\n",
      "epoch 30,loss 0.0011780587956309319\n",
      "epoch 31,loss 0.0011649099178612232\n",
      "epoch 32,loss 0.0011518904939293861\n",
      "epoch 33,loss 0.0011390205472707748\n",
      "epoch 34,loss 0.0011263111373409629\n",
      "epoch 35,loss 0.0011137353722006083\n",
      "epoch 36,loss 0.0011012795148417354\n",
      "epoch 37,loss 0.0010890086414292455\n",
      "epoch 38,loss 0.0010768395150080323\n",
      "epoch 39,loss 0.0010648125316947699\n",
      "epoch 40,loss 0.0010529140708968043\n",
      "epoch 41,loss 0.0010411525145173073\n",
      "epoch 42,loss 0.0010295481188222766\n",
      "epoch 43,loss 0.0010180381359532475\n",
      "epoch 44,loss 0.0010066633112728596\n",
      "epoch 45,loss 0.0009954205015674233\n",
      "epoch 46,loss 0.0009843084262683988\n",
      "epoch 47,loss 0.0009733210899867117\n",
      "epoch 48,loss 0.0009624563390389085\n",
      "epoch 49,loss 0.0009516876307316124\n",
      "epoch 50,loss 0.0009410800412297249\n",
      "epoch 51,loss 0.0009305551066063344\n",
      "epoch 52,loss 0.0009201742941513658\n",
      "epoch 53,loss 0.0009098873124457896\n",
      "epoch 54,loss 0.0008997339755296707\n",
      "epoch 55,loss 0.0008896944927982986\n",
      "epoch 56,loss 0.0008797584450803697\n",
      "epoch 57,loss 0.0008699255413375795\n",
      "epoch 58,loss 0.0008602034067735076\n",
      "epoch 59,loss 0.0008506214362569153\n",
      "epoch 60,loss 0.0008411132148467004\n",
      "epoch 61,loss 0.0008317126194015145\n",
      "epoch 62,loss 0.000822423433419317\n",
      "epoch 63,loss 0.0008132521179504693\n",
      "epoch 64,loss 0.0008041519904509187\n",
      "epoch 65,loss 0.0007951901643536985\n",
      "epoch 66,loss 0.0007863030186854303\n",
      "epoch 67,loss 0.0007775260019116104\n",
      "epoch 68,loss 0.0007688467740081251\n",
      "epoch 69,loss 0.0007602537516504526\n",
      "epoch 70,loss 0.0007517725462093949\n",
      "epoch 71,loss 0.0007433712598867714\n",
      "epoch 72,loss 0.0007350765517912805\n",
      "epoch 73,loss 0.0007268680492416024\n",
      "epoch 74,loss 0.0007187444134615362\n",
      "epoch 75,loss 0.0007107233395799994\n",
      "epoch 76,loss 0.0007027967367321253\n",
      "epoch 77,loss 0.0006949385278858244\n",
      "epoch 78,loss 0.0006871753139421344\n",
      "epoch 79,loss 0.00067951186792925\n",
      "epoch 80,loss 0.0006719142547808588\n",
      "epoch 81,loss 0.0006644079694524407\n",
      "epoch 82,loss 0.000656989635899663\n",
      "epoch 83,loss 0.0006496643181890249\n",
      "epoch 84,loss 0.0006424146122299135\n",
      "epoch 85,loss 0.0006352357449941337\n",
      "epoch 86,loss 0.0006281389505602419\n",
      "epoch 87,loss 0.0006211238214746118\n",
      "epoch 88,loss 0.0006141876219771802\n",
      "epoch 89,loss 0.0006073332042433321\n",
      "epoch 90,loss 0.0006005429313518107\n",
      "epoch 91,loss 0.0005938505055382848\n",
      "epoch 92,loss 0.0005872133770026267\n",
      "epoch 93,loss 0.0005806606495752931\n",
      "epoch 94,loss 0.0005741675267927349\n",
      "epoch 95,loss 0.0005677519948221743\n",
      "epoch 96,loss 0.0005614099209196866\n",
      "epoch 97,loss 0.0005551419453695416\n",
      "epoch 98,loss 0.0005489459726959467\n",
      "epoch 99,loss 0.0005428239237517118\n",
      "epoch 100,loss 0.0005367445410229266\n"
     ]
    },
    {
     "name": "stderr",
     "output_type": "stream",
     "text": [
      "C:\\Users\\ashis.panda\\AppData\\Local\\Continuum\\anaconda3\\lib\\site-packages\\ipykernel_launcher.py:22: UserWarning: invalid index of a 0-dim tensor. This will be an error in PyTorch 0.5. Use tensor.item() to convert a 0-dim tensor to a Python number\n"
     ]
    }
   ],
   "source": [
    "epochs=100\n",
    "for ep in range(epochs):\n",
    "    ep+=1\n",
    "    inputs=Variable(torch.from_numpy(x))\n",
    "    labels=Variable(torch.from_numpy(y))\n",
    "    \n",
    "#     Clear gradients wrt every parameter in each epoch\n",
    "    optimizer.zero_grad()\n",
    "    \n",
    "#     y=a*x+b . The forward function is being called here\n",
    "    outputs=model(inputs)\n",
    "    \n",
    "#     Calculate loss\n",
    "    loss=criterion(outputs,labels)\n",
    "    \n",
    "#     Calculate backpropagation\n",
    "    loss.backward()\n",
    "    \n",
    "#     Update parameters\n",
    "    optimizer.step()\n",
    "    \n",
    "    print('epoch {},loss {}'.format(ep,loss.data[0]))"
   ]
  },
  {
   "cell_type": "code",
   "execution_count": 43,
   "metadata": {},
   "outputs": [],
   "source": [
    "predicted=model(Variable(torch.from_numpy(x))).data.numpy()"
   ]
  },
  {
   "cell_type": "code",
   "execution_count": 44,
   "metadata": {},
   "outputs": [
    {
     "data": {
      "text/plain": [
       "array([[  0.9569028 ],\n",
       "       [  2.96310925],\n",
       "       [  4.96931601],\n",
       "       [  6.97552252],\n",
       "       [  8.98172855],\n",
       "       [ 10.98793507],\n",
       "       [ 12.99414158],\n",
       "       [ 15.00034809],\n",
       "       [ 17.00655556],\n",
       "       [ 19.01276207],\n",
       "       [ 21.01896858]], dtype=float32)"
      ]
     },
     "execution_count": 44,
     "metadata": {},
     "output_type": "execute_result"
    }
   ],
   "source": [
    "predicted"
   ]
  },
  {
   "cell_type": "code",
   "execution_count": 45,
   "metadata": {},
   "outputs": [
    {
     "data": {
      "text/plain": [
       "array([[  1.],\n",
       "       [  3.],\n",
       "       [  5.],\n",
       "       [  7.],\n",
       "       [  9.],\n",
       "       [ 11.],\n",
       "       [ 13.],\n",
       "       [ 15.],\n",
       "       [ 17.],\n",
       "       [ 19.],\n",
       "       [ 21.]], dtype=float32)"
      ]
     },
     "execution_count": 45,
     "metadata": {},
     "output_type": "execute_result"
    }
   ],
   "source": [
    "y"
   ]
  },
  {
   "cell_type": "code",
   "execution_count": 46,
   "metadata": {
    "collapsed": true
   },
   "outputs": [],
   "source": [
    "# We can see predicted values are near about close to actual values"
   ]
  },
  {
   "cell_type": "code",
   "execution_count": 49,
   "metadata": {
    "collapsed": true
   },
   "outputs": [],
   "source": [
    "save_model=True\n",
    "if save_model is True:\n",
    "    torch.save(model.state_dict(),'practice.pkl')\n",
    "    \n",
    "#     This will save the model parameters i.e alpha and Beta as a pickle file"
   ]
  },
  {
   "cell_type": "code",
   "execution_count": 50,
   "metadata": {
    "collapsed": true
   },
   "outputs": [],
   "source": [
    "load_model=True\n",
    "if load_model is True:\n",
    "    model.load_state_dict(torch.load('practice.pkl'))"
   ]
  },
  {
   "cell_type": "code",
   "execution_count": null,
   "metadata": {
    "collapsed": true
   },
   "outputs": [],
   "source": []
  }
 ],
 "metadata": {
  "kernelspec": {
   "display_name": "Python 3",
   "language": "python",
   "name": "python3"
  },
  "language_info": {
   "codemirror_mode": {
    "name": "ipython",
    "version": 3
   },
   "file_extension": ".py",
   "mimetype": "text/x-python",
   "name": "python",
   "nbconvert_exporter": "python",
   "pygments_lexer": "ipython3",
   "version": "3.6.2"
  }
 },
 "nbformat": 4,
 "nbformat_minor": 2
}
