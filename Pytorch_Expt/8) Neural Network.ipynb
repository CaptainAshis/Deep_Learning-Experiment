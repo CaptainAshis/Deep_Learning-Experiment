{
 "cells": [
  {
   "cell_type": "markdown",
   "metadata": {},
   "source": [
    "# Build a Feedforwad Neural Network with Pytorch"
   ]
  },
  {
   "cell_type": "markdown",
   "metadata": {},
   "source": [
    "#### Model 1:- Hidden Layer Feedforward Neural Network (Sigmoid Activations)"
   ]
  },
  {
   "cell_type": "code",
   "execution_count": 5,
   "metadata": {
    "collapsed": true
   },
   "outputs": [],
   "source": [
    "# 1) Load Dataset\n",
    "# 2) Make dataset iterable\n",
    "# 3)Create Model class\n",
    "# 4) Instantiate Model Class\n",
    "# 5) Instantiate Loss Class\n",
    "# 6) Instantiate optimizer Class\n",
    "# 7) Tran Model"
   ]
  },
  {
   "cell_type": "code",
   "execution_count": 6,
   "metadata": {
    "collapsed": true
   },
   "outputs": [],
   "source": [
    "# Step 1:-\n",
    "import torch\n",
    "import torch.nn as nn\n",
    "import torchvision.transforms as transforms\n",
    "import  torchvision.datasets as dsets\n",
    "from torch.autograd import Variable"
   ]
  },
  {
   "cell_type": "markdown",
   "metadata": {},
   "source": [
    "#### Read Data"
   ]
  },
  {
   "cell_type": "code",
   "execution_count": 8,
   "metadata": {
    "collapsed": true
   },
   "outputs": [],
   "source": [
    "train_dataset=dsets.MNIST(root='./data' ,train=True,transform=transforms.ToTensor())\n",
    "test_dataset=dsets.MNIST(root='./data' ,train=False,transform=transforms.ToTensor())"
   ]
  },
  {
   "cell_type": "markdown",
   "metadata": {},
   "source": [
    "#### Make datasets iterable"
   ]
  },
  {
   "cell_type": "code",
   "execution_count": 12,
   "metadata": {
    "collapsed": true
   },
   "outputs": [],
   "source": [
    "batch_size=100\n",
    "\n",
    "n_iters=3000\n",
    "\n",
    "num_epochs=n_iters/(len(train_dataset)/batch_size)\n",
    "\n",
    "train_loader=torch.utils.data.DataLoader(dataset=train_dataset,batch_size=batch_size,shuffle=True)\n",
    "\n",
    "test_loader=torch.utils.data.DataLoader(dataset=test_dataset,batch_size=batch_size)"
   ]
  },
  {
   "cell_type": "markdown",
   "metadata": {},
   "source": [
    "#### Create Model Class"
   ]
  },
  {
   "cell_type": "code",
   "execution_count": 24,
   "metadata": {
    "collapsed": true
   },
   "outputs": [],
   "source": [
    "class FeedForwardNeuralNetModel(nn.Module):\n",
    "#     input_dim is x and output_dim is y\n",
    "    def __init__(self,input_size,hidden_size,num_classes):\n",
    "        super(FeedForwardNeuralNetModel,self).__init__()\n",
    "        self.fc1=nn.Linear(input_dim,hidden_dim)\n",
    "        \n",
    "        self.sigmoid=nn.Sigmoid()\n",
    "        \n",
    "        self.fc2=nn.Linear(hidden_dim,output_dim)\n",
    "        \n",
    "    def forward(self,x):\n",
    "        out=self.fc1(x)\n",
    "        out=self.sigmoid(out)\n",
    "        out=self.fc2(out)\n",
    "        \n",
    "        return out"
   ]
  },
  {
   "cell_type": "markdown",
   "metadata": {},
   "source": [
    "#### Instantiate Model Class"
   ]
  },
  {
   "cell_type": "code",
   "execution_count": 25,
   "metadata": {},
   "outputs": [],
   "source": [
    "input_dim=28*28\n",
    "hidden_dim=100\n",
    "output_dim=10\n",
    "\n",
    "model=FeedForwardNeuralNetModel(input_dim,hidden_dim,output_dim)"
   ]
  },
  {
   "cell_type": "markdown",
   "metadata": {},
   "source": [
    "#### Instantiate Loss Class"
   ]
  },
  {
   "cell_type": "code",
   "execution_count": 26,
   "metadata": {
    "collapsed": true
   },
   "outputs": [],
   "source": [
    "criterion=nn.CrossEntropyLoss()"
   ]
  },
  {
   "cell_type": "markdown",
   "metadata": {},
   "source": [
    "#### Instantiate Optimizer Class"
   ]
  },
  {
   "cell_type": "code",
   "execution_count": 27,
   "metadata": {
    "collapsed": true
   },
   "outputs": [],
   "source": [
    "learning_rate=.1\n",
    "optimizer=torch.optim.SGD(model.parameters(),lr=learning_rate)"
   ]
  },
  {
   "cell_type": "code",
   "execution_count": 28,
   "metadata": {},
   "outputs": [
    {
     "name": "stderr",
     "output_type": "stream",
     "text": [
      "C:\\Users\\ashis.panda\\AppData\\Local\\Continuum\\anaconda3\\lib\\site-packages\\ipykernel_launcher.py:35: UserWarning: invalid index of a 0-dim tensor. This will be an error in PyTorch 0.5. Use tensor.item() to convert a 0-dim tensor to a Python number\n"
     ]
    },
    {
     "name": "stdout",
     "output_type": "stream",
     "text": [
      "Iterations 500. Loss 0.5427381992340088. Acuracy 86.\n",
      "Iterations 1000. Loss 0.42156586050987244. Acuracy 89.\n",
      "Iterations 1500. Loss 0.37555691599845886. Acuracy 90.\n",
      "Iterations 2000. Loss 0.31000134348869324. Acuracy 91.\n",
      "Iterations 2500. Loss 0.26587727665901184. Acuracy 91.\n",
      "Iterations 3000. Loss 0.21983307600021362. Acuracy 92.\n"
     ]
    }
   ],
   "source": [
    "iter=0\n",
    "for epoch in range(int(num_epochs)):\n",
    "    for i,(images,labels) in enumerate(train_loader):\n",
    "        images=Variable(images.view(-1,28*28))\n",
    "#         print(images.size())\n",
    "        labels=Variable(labels)\n",
    "        \n",
    "        optimizer.zero_grad()\n",
    "        \n",
    "        outputs=model(images)\n",
    "        \n",
    "        loss=criterion(outputs,labels)\n",
    "        \n",
    "        loss.backward()\n",
    "        \n",
    "        optimizer.step()\n",
    "        \n",
    "        iter+=1\n",
    "        \n",
    "        if iter%500==0:\n",
    "            correct=0\n",
    "            total=0\n",
    "            \n",
    "            for images,labels in test_loader:\n",
    "                images=Variable(images.view(-1,28*28))\n",
    "                outputs=model(images)\n",
    "                \n",
    "                _,predicted=torch.max(outputs.data,1)\n",
    "                \n",
    "                total+=labels.size(0)\n",
    "                \n",
    "                correct+=(predicted==labels).sum()\n",
    "            accuracy=100*correct/total\n",
    "            \n",
    "            print('Iterations {}. Loss {}. Acuracy {}.'.format(iter,loss.data[0],accuracy))"
   ]
  },
  {
   "cell_type": "code",
   "execution_count": 30,
   "metadata": {},
   "outputs": [],
   "source": [
    "# ! pip install fastai"
   ]
  },
  {
   "cell_type": "code",
   "execution_count": null,
   "metadata": {
    "collapsed": true
   },
   "outputs": [],
   "source": []
  }
 ],
 "metadata": {
  "kernelspec": {
   "display_name": "Python 3",
   "language": "python",
   "name": "python3"
  },
  "language_info": {
   "codemirror_mode": {
    "name": "ipython",
    "version": 3
   },
   "file_extension": ".py",
   "mimetype": "text/x-python",
   "name": "python",
   "nbconvert_exporter": "python",
   "pygments_lexer": "ipython3",
   "version": "3.6.2"
  }
 },
 "nbformat": 4,
 "nbformat_minor": 2
}
