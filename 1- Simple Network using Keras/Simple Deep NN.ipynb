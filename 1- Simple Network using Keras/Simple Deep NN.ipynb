{
 "cells": [
  {
   "cell_type": "markdown",
   "metadata": {
    "colab_type": "text",
    "id": "aNyZv-Ec52ot"
   },
   "source": [
    "# **Import Libraries and modules**"
   ]
  },
  {
   "cell_type": "code",
   "execution_count": 0,
   "metadata": {
    "colab": {
     "autoexec": {
      "startup": false,
      "wait_interval": 0
     }
    },
    "colab_type": "code",
    "collapsed": true,
    "id": "3m3w1Cw49Zkt"
   },
   "outputs": [],
   "source": [
    "# https://keras.io/\n",
    "!pip install -q keras\n",
    "import keras"
   ]
  },
  {
   "cell_type": "code",
   "execution_count": 1,
   "metadata": {
    "colab": {
     "autoexec": {
      "startup": false,
      "wait_interval": 0
     },
     "base_uri": "https://localhost:8080/",
     "height": 34
    },
    "colab_type": "code",
    "executionInfo": {
     "elapsed": 1703,
     "status": "ok",
     "timestamp": 1526009535023,
     "user": {
      "displayName": "ashis kumar",
      "photoUrl": "//lh4.googleusercontent.com/-fAW8BbSQZCA/AAAAAAAAAAI/AAAAAAAABEI/EOTcAAbxBFw/s50-c-k-no/photo.jpg",
      "userId": "112959655216491997395"
     },
     "user_tz": -330
    },
    "id": "Eso6UHE080D4",
    "outputId": "6570a846-bb80-4943-f047-fbe4bc46a8a9"
   },
   "outputs": [
    {
     "name": "stderr",
     "output_type": "stream",
     "text": [
      "Using TensorFlow backend.\n"
     ]
    },
    {
     "ename": "ModuleNotFoundError",
     "evalue": "No module named 'tensorflow'",
     "output_type": "error",
     "traceback": [
      "\u001b[1;31m---------------------------------------------------------------------------\u001b[0m",
      "\u001b[1;31mModuleNotFoundError\u001b[0m                       Traceback (most recent call last)",
      "\u001b[1;32m<ipython-input-1-eb733822c97a>\u001b[0m in \u001b[0;36m<module>\u001b[1;34m()\u001b[0m\n\u001b[0;32m      1\u001b[0m \u001b[1;32mimport\u001b[0m \u001b[0mnumpy\u001b[0m \u001b[1;32mas\u001b[0m \u001b[0mnp\u001b[0m\u001b[1;33m\u001b[0m\u001b[0m\n\u001b[0;32m      2\u001b[0m \u001b[1;33m\u001b[0m\u001b[0m\n\u001b[1;32m----> 3\u001b[1;33m \u001b[1;32mfrom\u001b[0m \u001b[0mkeras\u001b[0m\u001b[1;33m.\u001b[0m\u001b[0mmodels\u001b[0m \u001b[1;32mimport\u001b[0m \u001b[0mSequential\u001b[0m\u001b[1;33m\u001b[0m\u001b[0m\n\u001b[0m\u001b[0;32m      4\u001b[0m \u001b[1;32mfrom\u001b[0m \u001b[0mkeras\u001b[0m\u001b[1;33m.\u001b[0m\u001b[0mlayers\u001b[0m \u001b[1;32mimport\u001b[0m \u001b[0mDense\u001b[0m\u001b[1;33m,\u001b[0m \u001b[0mDropout\u001b[0m\u001b[1;33m,\u001b[0m \u001b[0mActivation\u001b[0m\u001b[1;33m,\u001b[0m \u001b[0mFlatten\u001b[0m\u001b[1;33m,\u001b[0m \u001b[0mAdd\u001b[0m\u001b[1;33m\u001b[0m\u001b[0m\n\u001b[0;32m      5\u001b[0m \u001b[1;32mfrom\u001b[0m \u001b[0mkeras\u001b[0m\u001b[1;33m.\u001b[0m\u001b[0mlayers\u001b[0m \u001b[1;32mimport\u001b[0m \u001b[0mConvolution2D\u001b[0m\u001b[1;33m,\u001b[0m \u001b[0mMaxPooling2D\u001b[0m\u001b[1;33m\u001b[0m\u001b[0m\n",
      "\u001b[1;32m~\\AppData\\Local\\Continuum\\anaconda3\\lib\\site-packages\\keras\\__init__.py\u001b[0m in \u001b[0;36m<module>\u001b[1;34m()\u001b[0m\n\u001b[0;32m      1\u001b[0m \u001b[1;32mfrom\u001b[0m \u001b[0m__future__\u001b[0m \u001b[1;32mimport\u001b[0m \u001b[0mabsolute_import\u001b[0m\u001b[1;33m\u001b[0m\u001b[0m\n\u001b[0;32m      2\u001b[0m \u001b[1;33m\u001b[0m\u001b[0m\n\u001b[1;32m----> 3\u001b[1;33m \u001b[1;32mfrom\u001b[0m \u001b[1;33m.\u001b[0m \u001b[1;32mimport\u001b[0m \u001b[0mutils\u001b[0m\u001b[1;33m\u001b[0m\u001b[0m\n\u001b[0m\u001b[0;32m      4\u001b[0m \u001b[1;32mfrom\u001b[0m \u001b[1;33m.\u001b[0m \u001b[1;32mimport\u001b[0m \u001b[0mactivations\u001b[0m\u001b[1;33m\u001b[0m\u001b[0m\n\u001b[0;32m      5\u001b[0m \u001b[1;32mfrom\u001b[0m \u001b[1;33m.\u001b[0m \u001b[1;32mimport\u001b[0m \u001b[0mapplications\u001b[0m\u001b[1;33m\u001b[0m\u001b[0m\n",
      "\u001b[1;32m~\\AppData\\Local\\Continuum\\anaconda3\\lib\\site-packages\\keras\\utils\\__init__.py\u001b[0m in \u001b[0;36m<module>\u001b[1;34m()\u001b[0m\n\u001b[0;32m      4\u001b[0m \u001b[1;32mfrom\u001b[0m \u001b[1;33m.\u001b[0m \u001b[1;32mimport\u001b[0m \u001b[0mdata_utils\u001b[0m\u001b[1;33m\u001b[0m\u001b[0m\n\u001b[0;32m      5\u001b[0m \u001b[1;32mfrom\u001b[0m \u001b[1;33m.\u001b[0m \u001b[1;32mimport\u001b[0m \u001b[0mio_utils\u001b[0m\u001b[1;33m\u001b[0m\u001b[0m\n\u001b[1;32m----> 6\u001b[1;33m \u001b[1;32mfrom\u001b[0m \u001b[1;33m.\u001b[0m \u001b[1;32mimport\u001b[0m \u001b[0mconv_utils\u001b[0m\u001b[1;33m\u001b[0m\u001b[0m\n\u001b[0m\u001b[0;32m      7\u001b[0m \u001b[1;33m\u001b[0m\u001b[0m\n\u001b[0;32m      8\u001b[0m \u001b[1;31m# Globally-importable utils.\u001b[0m\u001b[1;33m\u001b[0m\u001b[1;33m\u001b[0m\u001b[0m\n",
      "\u001b[1;32m~\\AppData\\Local\\Continuum\\anaconda3\\lib\\site-packages\\keras\\utils\\conv_utils.py\u001b[0m in \u001b[0;36m<module>\u001b[1;34m()\u001b[0m\n\u001b[0;32m      7\u001b[0m \u001b[1;32mfrom\u001b[0m \u001b[0msix\u001b[0m\u001b[1;33m.\u001b[0m\u001b[0mmoves\u001b[0m \u001b[1;32mimport\u001b[0m \u001b[0mrange\u001b[0m\u001b[1;33m\u001b[0m\u001b[0m\n\u001b[0;32m      8\u001b[0m \u001b[1;32mimport\u001b[0m \u001b[0mnumpy\u001b[0m \u001b[1;32mas\u001b[0m \u001b[0mnp\u001b[0m\u001b[1;33m\u001b[0m\u001b[0m\n\u001b[1;32m----> 9\u001b[1;33m \u001b[1;32mfrom\u001b[0m \u001b[1;33m.\u001b[0m\u001b[1;33m.\u001b[0m \u001b[1;32mimport\u001b[0m \u001b[0mbackend\u001b[0m \u001b[1;32mas\u001b[0m \u001b[0mK\u001b[0m\u001b[1;33m\u001b[0m\u001b[0m\n\u001b[0m\u001b[0;32m     10\u001b[0m \u001b[1;33m\u001b[0m\u001b[0m\n\u001b[0;32m     11\u001b[0m \u001b[1;33m\u001b[0m\u001b[0m\n",
      "\u001b[1;32m~\\AppData\\Local\\Continuum\\anaconda3\\lib\\site-packages\\keras\\backend\\__init__.py\u001b[0m in \u001b[0;36m<module>\u001b[1;34m()\u001b[0m\n\u001b[0;32m     82\u001b[0m \u001b[1;32melif\u001b[0m \u001b[0m_BACKEND\u001b[0m \u001b[1;33m==\u001b[0m \u001b[1;34m'tensorflow'\u001b[0m\u001b[1;33m:\u001b[0m\u001b[1;33m\u001b[0m\u001b[0m\n\u001b[0;32m     83\u001b[0m     \u001b[0msys\u001b[0m\u001b[1;33m.\u001b[0m\u001b[0mstderr\u001b[0m\u001b[1;33m.\u001b[0m\u001b[0mwrite\u001b[0m\u001b[1;33m(\u001b[0m\u001b[1;34m'Using TensorFlow backend.\\n'\u001b[0m\u001b[1;33m)\u001b[0m\u001b[1;33m\u001b[0m\u001b[0m\n\u001b[1;32m---> 84\u001b[1;33m     \u001b[1;32mfrom\u001b[0m \u001b[1;33m.\u001b[0m\u001b[0mtensorflow_backend\u001b[0m \u001b[1;32mimport\u001b[0m \u001b[1;33m*\u001b[0m\u001b[1;33m\u001b[0m\u001b[0m\n\u001b[0m\u001b[0;32m     85\u001b[0m \u001b[1;32melse\u001b[0m\u001b[1;33m:\u001b[0m\u001b[1;33m\u001b[0m\u001b[0m\n\u001b[0;32m     86\u001b[0m     \u001b[1;32mraise\u001b[0m \u001b[0mValueError\u001b[0m\u001b[1;33m(\u001b[0m\u001b[1;34m'Unknown backend: '\u001b[0m \u001b[1;33m+\u001b[0m \u001b[0mstr\u001b[0m\u001b[1;33m(\u001b[0m\u001b[0m_BACKEND\u001b[0m\u001b[1;33m)\u001b[0m\u001b[1;33m)\u001b[0m\u001b[1;33m\u001b[0m\u001b[0m\n",
      "\u001b[1;32m~\\AppData\\Local\\Continuum\\anaconda3\\lib\\site-packages\\keras\\backend\\tensorflow_backend.py\u001b[0m in \u001b[0;36m<module>\u001b[1;34m()\u001b[0m\n\u001b[0;32m      3\u001b[0m \u001b[1;32mfrom\u001b[0m \u001b[0m__future__\u001b[0m \u001b[1;32mimport\u001b[0m \u001b[0mprint_function\u001b[0m\u001b[1;33m\u001b[0m\u001b[0m\n\u001b[0;32m      4\u001b[0m \u001b[1;33m\u001b[0m\u001b[0m\n\u001b[1;32m----> 5\u001b[1;33m \u001b[1;32mimport\u001b[0m \u001b[0mtensorflow\u001b[0m \u001b[1;32mas\u001b[0m \u001b[0mtf\u001b[0m\u001b[1;33m\u001b[0m\u001b[0m\n\u001b[0m\u001b[0;32m      6\u001b[0m \u001b[1;32mfrom\u001b[0m \u001b[0mtensorflow\u001b[0m\u001b[1;33m.\u001b[0m\u001b[0mpython\u001b[0m\u001b[1;33m.\u001b[0m\u001b[0mtraining\u001b[0m \u001b[1;32mimport\u001b[0m \u001b[0mmoving_averages\u001b[0m\u001b[1;33m\u001b[0m\u001b[0m\n\u001b[0;32m      7\u001b[0m \u001b[1;32mfrom\u001b[0m \u001b[0mtensorflow\u001b[0m\u001b[1;33m.\u001b[0m\u001b[0mpython\u001b[0m\u001b[1;33m.\u001b[0m\u001b[0mops\u001b[0m \u001b[1;32mimport\u001b[0m \u001b[0mtensor_array_ops\u001b[0m\u001b[1;33m\u001b[0m\u001b[0m\n",
      "\u001b[1;31mModuleNotFoundError\u001b[0m: No module named 'tensorflow'"
     ]
    }
   ],
   "source": [
    "import numpy as np\n",
    "\n",
    "from keras.models import Sequential\n",
    "from keras.layers import Dense, Dropout, Activation, Flatten, Add\n",
    "from keras.layers import Convolution2D, MaxPooling2D\n",
    "from keras.utils import np_utils\n",
    "\n",
    "from keras.datasets import mnist"
   ]
  },
  {
   "cell_type": "markdown",
   "metadata": {
    "colab_type": "text",
    "id": "zByEi95J86RD"
   },
   "source": [
    "### Load pre-shuffled MNIST data into train and test sets"
   ]
  },
  {
   "cell_type": "code",
   "execution_count": 0,
   "metadata": {
    "colab": {
     "autoexec": {
      "startup": false,
      "wait_interval": 0
     }
    },
    "colab_type": "code",
    "collapsed": true,
    "id": "7eRM0QWN83PV"
   },
   "outputs": [],
   "source": [
    "(X_train, y_train), (X_test, y_test) = mnist.load_data()"
   ]
  },
  {
   "cell_type": "code",
   "execution_count": 3,
   "metadata": {
    "colab": {
     "autoexec": {
      "startup": false,
      "wait_interval": 0
     },
     "base_uri": "https://localhost:8080/",
     "height": 299
    },
    "colab_type": "code",
    "executionInfo": {
     "elapsed": 824,
     "status": "ok",
     "timestamp": 1526009541300,
     "user": {
      "displayName": "ashis kumar",
      "photoUrl": "//lh4.googleusercontent.com/-fAW8BbSQZCA/AAAAAAAAAAI/AAAAAAAABEI/EOTcAAbxBFw/s50-c-k-no/photo.jpg",
      "userId": "112959655216491997395"
     },
     "user_tz": -330
    },
    "id": "4a4Be72j8-ZC",
    "outputId": "d35a5a6a-fa92-4f83-9917-6997995f52d0"
   },
   "outputs": [
    {
     "name": "stdout",
     "output_type": "stream",
     "text": [
      "(60000, 28, 28)\n"
     ]
    },
    {
     "data": {
      "text/plain": [
       "<matplotlib.image.AxesImage at 0x7fa0aa4b4550>"
      ]
     },
     "execution_count": 3,
     "metadata": {
      "tags": []
     },
     "output_type": "execute_result"
    },
    {
     "data": {
      "image/png": "[encoded data removed]",
      "text/plain": [
       "<matplotlib.figure.Figure at 0x7fa0fcac3fd0>"
      ]
     },
     "metadata": {
      "tags": []
     },
     "output_type": "display_data"
    }
   ],
   "source": [
    "print (X_train.shape)\n",
    "from matplotlib import pyplot as plt\n",
    "%matplotlib inline\n",
    "plt.imshow(X_train[0])"
   ]
  },
  {
   "cell_type": "code",
   "execution_count": 0,
   "metadata": {
    "colab": {
     "autoexec": {
      "startup": false,
      "wait_interval": 0
     }
    },
    "colab_type": "code",
    "collapsed": true,
    "id": "dkmprriw9AnZ"
   },
   "outputs": [],
   "source": [
    "X_train = X_train.reshape(X_train.shape[0], 28, 28,1)\n",
    "X_test = X_test.reshape(X_test.shape[0], 28, 28,1)"
   ]
  },
  {
   "cell_type": "code",
   "execution_count": 0,
   "metadata": {
    "colab": {
     "autoexec": {
      "startup": false,
      "wait_interval": 0
     }
    },
    "colab_type": "code",
    "collapsed": true,
    "id": "X2m4YS4E9CRh"
   },
   "outputs": [],
   "source": [
    "X_train = X_train.astype('float32')\n",
    "X_test = X_test.astype('float32')\n",
    "X_train /= 255\n",
    "X_test /= 255"
   ]
  },
  {
   "cell_type": "code",
   "execution_count": 6,
   "metadata": {
    "colab": {
     "autoexec": {
      "startup": false,
      "wait_interval": 0
     },
     "base_uri": "https://localhost:8080/",
     "height": 34
    },
    "colab_type": "code",
    "executionInfo": {
     "elapsed": 770,
     "status": "ok",
     "timestamp": 1526009545588,
     "user": {
      "displayName": "ashis kumar",
      "photoUrl": "//lh4.googleusercontent.com/-fAW8BbSQZCA/AAAAAAAAAAI/AAAAAAAABEI/EOTcAAbxBFw/s50-c-k-no/photo.jpg",
      "userId": "112959655216491997395"
     },
     "user_tz": -330
    },
    "id": "0Mn0vAYD9DvB",
    "outputId": "59a552ac-ba07-4465-9ef2-75bf0053de50"
   },
   "outputs": [
    {
     "data": {
      "text/plain": [
       "array([5, 0, 4, 1, 9, 2, 1, 3, 1, 4], dtype=uint8)"
      ]
     },
     "execution_count": 6,
     "metadata": {
      "tags": []
     },
     "output_type": "execute_result"
    }
   ],
   "source": [
    "y_train[:10]"
   ]
  },
  {
   "cell_type": "code",
   "execution_count": 0,
   "metadata": {
    "colab": {
     "autoexec": {
      "startup": false,
      "wait_interval": 0
     }
    },
    "colab_type": "code",
    "collapsed": true,
    "id": "ZG8JiXR39FHC"
   },
   "outputs": [],
   "source": [
    "# Convert 1-dimensional class arrays to 10-dimensional class matrices\n",
    "Y_train = np_utils.to_categorical(y_train, 10)\n",
    "Y_test = np_utils.to_categorical(y_test, 10)"
   ]
  },
  {
   "cell_type": "code",
   "execution_count": 8,
   "metadata": {
    "colab": {
     "autoexec": {
      "startup": false,
      "wait_interval": 0
     },
     "base_uri": "https://localhost:8080/",
     "height": 187
    },
    "colab_type": "code",
    "executionInfo": {
     "elapsed": 721,
     "status": "ok",
     "timestamp": 1526009548254,
     "user": {
      "displayName": "ashis kumar",
      "photoUrl": "//lh4.googleusercontent.com/-fAW8BbSQZCA/AAAAAAAAAAI/AAAAAAAABEI/EOTcAAbxBFw/s50-c-k-no/photo.jpg",
      "userId": "112959655216491997395"
     },
     "user_tz": -330
    },
    "id": "fYlFRvKS9HMB",
    "outputId": "f965d23f-2e09-4625-dd0d-df8dbaa324d7"
   },
   "outputs": [
    {
     "data": {
      "text/plain": [
       "array([[0., 0., 0., 0., 0., 1., 0., 0., 0., 0.],\n",
       "       [1., 0., 0., 0., 0., 0., 0., 0., 0., 0.],\n",
       "       [0., 0., 0., 0., 1., 0., 0., 0., 0., 0.],\n",
       "       [0., 1., 0., 0., 0., 0., 0., 0., 0., 0.],\n",
       "       [0., 0., 0., 0., 0., 0., 0., 0., 0., 1.],\n",
       "       [0., 0., 1., 0., 0., 0., 0., 0., 0., 0.],\n",
       "       [0., 1., 0., 0., 0., 0., 0., 0., 0., 0.],\n",
       "       [0., 0., 0., 1., 0., 0., 0., 0., 0., 0.],\n",
       "       [0., 1., 0., 0., 0., 0., 0., 0., 0., 0.],\n",
       "       [0., 0., 0., 0., 1., 0., 0., 0., 0., 0.]], dtype=float32)"
      ]
     },
     "execution_count": 8,
     "metadata": {
      "tags": []
     },
     "output_type": "execute_result"
    }
   ],
   "source": [
    "Y_train[:10]\n"
   ]
  },
  {
   "cell_type": "code",
   "execution_count": 14,
   "metadata": {
    "colab": {
     "autoexec": {
      "startup": false,
      "wait_interval": 0
     },
     "base_uri": "https://localhost:8080/",
     "height": 139
    },
    "colab_type": "code",
    "executionInfo": {
     "elapsed": 1194,
     "status": "ok",
     "timestamp": 1526009612873,
     "user": {
      "displayName": "ashis kumar",
      "photoUrl": "//lh4.googleusercontent.com/-fAW8BbSQZCA/AAAAAAAAAAI/AAAAAAAABEI/EOTcAAbxBFw/s50-c-k-no/photo.jpg",
      "userId": "112959655216491997395"
     },
     "user_tz": -330
    },
    "id": "osKqT73Q9JJB",
    "outputId": "5a1f1796-95b9-4f8b-8479-4b7ed3db1acc"
   },
   "outputs": [
    {
     "name": "stderr",
     "output_type": "stream",
     "text": [
      "/usr/local/lib/python3.6/dist-packages/ipykernel_launcher.py:5: UserWarning: Update your `Conv2D` call to the Keras 2 API: `Conv2D(32, (5, 1), activation=\"relu\", input_shape=(28, 28, 1...)`\n",
      "  \"\"\"\n",
      "/usr/local/lib/python3.6/dist-packages/ipykernel_launcher.py:6: UserWarning: Update your `Conv2D` call to the Keras 2 API: `Conv2D(32, (1, 5), activation=\"relu\")`\n",
      "  \n",
      "/usr/local/lib/python3.6/dist-packages/ipykernel_launcher.py:9: UserWarning: Update your `Conv2D` call to the Keras 2 API: `Conv2D(32, (3, 3), activation=\"relu\")`\n",
      "  if __name__ == '__main__':\n"
     ]
    }
   ],
   "source": [
    "from keras.layers import Activation\n",
    "model = Sequential()\n",
    "\n",
    " \n",
    "model.add(Convolution2D(32, 5,1, activation='relu', input_shape=(28,28,1)))\n",
    "model.add(Convolution2D(32, 1,5, activation='relu'))\n",
    "# model.add(Dropout(0.7))\n",
    "model.add(MaxPooling2D(pool_size=2, strides=None, padding='valid'))\n",
    "model.add(Convolution2D(32, 3, 3, activation='relu'))\n",
    "model.add(Convolution2D(10, 10))\n",
    "# model.add(Convolution2D(10, 1, activation='relu'))\n",
    "# model.add(Convolution2D(10, 24))\n",
    "# model.add(MaxPooling2D(pool_size=2, strides=None, padding='valid'))\n",
    "# model.add(Convolution2D(10, 1, activation='relu'))\n",
    "# model.add(Convolution2D(10, 9, activation='relu'))\n",
    "# model.add(Convolution2D(32, 3, activation='relu'))\n",
    "# model.add(Convolution2D(32, 5, activation='relu'))\n",
    "# model.add(Convolution2D(10, 19, activation='relu'))\n",
    "# model.add(MaxPooling2D(pool_size=2, strides=None, padding='valid'))\n",
    "# model.add(Convolution2D(10, 1, activation='relu'))\n",
    "# model.add(Convolution2D(32, 2, 2, activation='relu'))\n",
    "# model.add(Convolution2D(32, 2, 2, activation='relu'))\n",
    "# model.add(Convolution2D(10, 1, activation='relu'))\n",
    "# model.add(Convolution2D(10, 10, activation='relu'))\n",
    "# # model.add(Convolution2D(10, 3,3))\n",
    "# # model.add(Convolution2D(10, 11,11, activation='relu'))\n",
    "model.add(Flatten())\n",
    "model.add(Activation('softmax'))"
   ]
  },
  {
   "cell_type": "code",
   "execution_count": 15,
   "metadata": {
    "colab": {
     "autoexec": {
      "startup": false,
      "wait_interval": 0
     },
     "base_uri": "https://localhost:8080/",
     "height": 374
    },
    "colab_type": "code",
    "executionInfo": {
     "elapsed": 1021,
     "status": "ok",
     "timestamp": 1526009614204,
     "user": {
      "displayName": "ashis kumar",
      "photoUrl": "//lh4.googleusercontent.com/-fAW8BbSQZCA/AAAAAAAAAAI/AAAAAAAABEI/EOTcAAbxBFw/s50-c-k-no/photo.jpg",
      "userId": "112959655216491997395"
     },
     "user_tz": -330
    },
    "id": "TzdAYg1k9K7Z",
    "outputId": "7f336b21-4bf5-4180-c977-1dc9cd503802"
   },
   "outputs": [
    {
     "name": "stdout",
     "output_type": "stream",
     "text": [
      "_________________________________________________________________\n",
      "Layer (type)                 Output Shape              Param #   \n",
      "=================================================================\n",
      "conv2d_11 (Conv2D)           (None, 24, 28, 32)        192       \n",
      "_________________________________________________________________\n",
      "conv2d_12 (Conv2D)           (None, 24, 24, 32)        5152      \n",
      "_________________________________________________________________\n",
      "max_pooling2d_3 (MaxPooling2 (None, 12, 12, 32)        0         \n",
      "_________________________________________________________________\n",
      "conv2d_13 (Conv2D)           (None, 10, 10, 32)        9248      \n",
      "_________________________________________________________________\n",
      "conv2d_14 (Conv2D)           (None, 1, 1, 10)          32010     \n",
      "_________________________________________________________________\n",
      "flatten_2 (Flatten)          (None, 10)                0         \n",
      "_________________________________________________________________\n",
      "activation_2 (Activation)    (None, 10)                0         \n",
      "=================================================================\n",
      "Total params: 46,602\n",
      "Trainable params: 46,602\n",
      "Non-trainable params: 0\n",
      "_________________________________________________________________\n"
     ]
    }
   ],
   "source": [
    "model.summary()"
   ]
  },
  {
   "cell_type": "code",
   "execution_count": 0,
   "metadata": {
    "colab": {
     "autoexec": {
      "startup": false,
      "wait_interval": 0
     }
    },
    "colab_type": "code",
    "collapsed": true,
    "id": "Zp6SuGrL9M3h"
   },
   "outputs": [],
   "source": [
    "model.compile(loss='categorical_crossentropy',\n",
    "             optimizer='adam',\n",
    "             metrics=['accuracy'])"
   ]
  },
  {
   "cell_type": "code",
   "execution_count": 17,
   "metadata": {
    "colab": {
     "autoexec": {
      "startup": false,
      "wait_interval": 0
     },
     "base_uri": "https://localhost:8080/",
     "height": 428
    },
    "colab_type": "code",
    "executionInfo": {
     "elapsed": 208976,
     "status": "ok",
     "timestamp": 1526009830649,
     "user": {
      "displayName": "ashis kumar",
      "photoUrl": "//lh4.googleusercontent.com/-fAW8BbSQZCA/AAAAAAAAAAI/AAAAAAAABEI/EOTcAAbxBFw/s50-c-k-no/photo.jpg",
      "userId": "112959655216491997395"
     },
     "user_tz": -330
    },
    "id": "4xWoKhPY9Of5",
    "outputId": "9dbe6f47-89bc-48fe-fee0-1c1e90972883"
   },
   "outputs": [
    {
     "name": "stderr",
     "output_type": "stream",
     "text": [
      "/usr/local/lib/python3.6/dist-packages/keras/models.py:981: UserWarning: The `nb_epoch` argument in `fit` has been renamed `epochs`.\n",
      "  warnings.warn('The `nb_epoch` argument in `fit` '\n"
     ]
    },
    {
     "name": "stdout",
     "output_type": "stream",
     "text": [
      "Epoch 1/10\n",
      "60000/60000 [==============================] - 23s 380us/step - loss: 0.1465 - acc: 0.9554\n",
      "Epoch 2/10\n",
      "50944/60000 [========================>.....] - ETA: 3s - loss: 0.0509 - acc: 0.985060000/60000 [==============================] - 21s 344us/step - loss: 0.0491 - acc: 0.9851\n",
      "Epoch 3/10\n",
      "60000/60000 [==============================] - 21s 347us/step - loss: 0.0348 - acc: 0.9890\n",
      "Epoch 4/10\n",
      "13056/60000 [=====>........................] - ETA: 16s - loss: 0.0229 - acc: 0.992860000/60000 [==============================] - 21s 345us/step - loss: 0.0256 - acc: 0.9919\n",
      "Epoch 5/10\n",
      "60000/60000 [==============================] - 20s 342us/step - loss: 0.0204 - acc: 0.9932\n",
      "Epoch 6/10\n",
      " 2048/60000 [>.............................] - ETA: 20s - loss: 0.0086 - acc: 0.997160000/60000 [==============================] - 21s 342us/step - loss: 0.0158 - acc: 0.9953\n",
      "Epoch 7/10\n",
      "58976/60000 [============================>.] - ETA: 0s - loss: 0.0124 - acc: 0.996360000/60000 [==============================] - 20s 341us/step - loss: 0.0123 - acc: 0.9963\n",
      "Epoch 8/10\n",
      "60000/60000 [==============================] - 21s 343us/step - loss: 0.0105 - acc: 0.9965\n",
      "Epoch 9/10\n",
      "15328/60000 [======>.......................] - ETA: 15s - loss: 0.0060 - acc: 0.997960000/60000 [==============================] - 21s 345us/step - loss: 0.0092 - acc: 0.9970\n",
      "Epoch 10/10\n",
      "60000/60000 [==============================] - 20s 340us/step - loss: 0.0068 - acc: 0.9979\n"
     ]
    },
    {
     "data": {
      "text/plain": [
       "<keras.callbacks.History at 0x7fa0aa239ef0>"
      ]
     },
     "execution_count": 17,
     "metadata": {
      "tags": []
     },
     "output_type": "execute_result"
    }
   ],
   "source": [
    "model.fit(X_train, Y_train, batch_size=32, nb_epoch=10, verbose=1)"
   ]
  },
  {
   "cell_type": "code",
   "execution_count": 0,
   "metadata": {
    "colab": {
     "autoexec": {
      "startup": false,
      "wait_interval": 0
     }
    },
    "colab_type": "code",
    "collapsed": true,
    "id": "AtsH-lLk-eLb"
   },
   "outputs": [],
   "source": [
    "score = model.evaluate(X_test, Y_test, verbose=0)"
   ]
  },
  {
   "cell_type": "code",
   "execution_count": 19,
   "metadata": {
    "colab": {
     "autoexec": {
      "startup": false,
      "wait_interval": 0
     },
     "base_uri": "https://localhost:8080/",
     "height": 34
    },
    "colab_type": "code",
    "executionInfo": {
     "elapsed": 734,
     "status": "ok",
     "timestamp": 1526009833748,
     "user": {
      "displayName": "ashis kumar",
      "photoUrl": "//lh4.googleusercontent.com/-fAW8BbSQZCA/AAAAAAAAAAI/AAAAAAAABEI/EOTcAAbxBFw/s50-c-k-no/photo.jpg",
      "userId": "112959655216491997395"
     },
     "user_tz": -330
    },
    "id": "mkX8JMv79q9r",
    "outputId": "4c8319e6-025a-4ab4-8955-40b594bd381b"
   },
   "outputs": [
    {
     "name": "stdout",
     "output_type": "stream",
     "text": [
      "[0.03862601956458843, 0.9916]\n"
     ]
    }
   ],
   "source": [
    "print(score)"
   ]
  },
  {
   "cell_type": "code",
   "execution_count": 0,
   "metadata": {
    "colab": {
     "autoexec": {
      "startup": false,
      "wait_interval": 0
     }
    },
    "colab_type": "code",
    "collapsed": true,
    "id": "OCWoJkwE9suh"
   },
   "outputs": [],
   "source": [
    "y_pred = model.predict(X_test)"
   ]
  },
  {
   "cell_type": "code",
   "execution_count": 21,
   "metadata": {
    "colab": {
     "autoexec": {
      "startup": false,
      "wait_interval": 0
     },
     "base_uri": "https://localhost:8080/",
     "height": 340
    },
    "colab_type": "code",
    "executionInfo": {
     "elapsed": 723,
     "status": "ok",
     "timestamp": 1526009846860,
     "user": {
      "displayName": "ashis kumar",
      "photoUrl": "//lh4.googleusercontent.com/-fAW8BbSQZCA/AAAAAAAAAAI/AAAAAAAABEI/EOTcAAbxBFw/s50-c-k-no/photo.jpg",
      "userId": "112959655216491997395"
     },
     "user_tz": -330
    },
    "id": "Ym7iCFBm9uBs",
    "outputId": "a3ca5819-4555-4ecc-a01b-cee11bac851c"
   },
   "outputs": [
    {
     "name": "stdout",
     "output_type": "stream",
     "text": [
      "[[1.6766694e-19 2.4293749e-23 3.0154017e-15 3.3653812e-11 1.6824322e-23\n",
      "  9.0364089e-18 8.2460712e-31 1.0000000e+00 2.7956351e-18 1.5539864e-13]\n",
      " [2.1175965e-16 8.7530441e-18 1.0000000e+00 3.7259122e-22 9.3698532e-26\n",
      "  8.5974933e-29 1.4114961e-15 2.8623161e-24 7.7001959e-20 1.3076943e-21]\n",
      " [1.1459237e-11 9.9999762e-01 9.3107960e-10 1.0585906e-10 1.7662133e-07\n",
      "  1.1981100e-08 6.7403488e-10 1.7797121e-06 3.9206162e-07 2.1283518e-11]\n",
      " [9.9999976e-01 5.2022729e-18 6.4555056e-10 1.6351479e-15 8.4766558e-14\n",
      "  1.4844793e-13 1.8069882e-07 2.6000471e-12 4.5274504e-10 8.4324281e-09]\n",
      " [6.2784036e-16 8.6798642e-17 1.4563554e-14 8.8526510e-16 1.0000000e+00\n",
      "  1.4550795e-16 5.3067024e-14 6.0328484e-13 2.7289279e-10 3.8328860e-08]\n",
      " [1.3903134e-12 9.9999130e-01 6.9174377e-10 4.0553008e-12 8.6209099e-08\n",
      "  4.8363737e-11 1.2644228e-12 6.7650171e-06 1.9244071e-06 4.4529869e-11]\n",
      " [1.3140152e-28 1.5243668e-19 5.7061122e-17 6.3732687e-21 9.9999988e-01\n",
      "  6.6687357e-15 4.0213277e-24 2.0031264e-16 1.0195425e-07 1.4205691e-10]\n",
      " [4.6198767e-24 1.5927705e-19 4.4902453e-15 9.3174437e-14 8.9086294e-09\n",
      "  3.5618342e-14 2.6446297e-21 4.0003313e-19 5.4621745e-12 1.0000000e+00]\n",
      " [1.4649459e-14 3.4486828e-22 9.2192002e-21 7.2164560e-17 7.8567924e-17\n",
      "  9.8924446e-01 1.0755590e-02 1.5131058e-19 1.8540610e-09 3.5583641e-12]]\n",
      "[7 2 1 0 4 1 4 9 5]\n"
     ]
    }
   ],
   "source": [
    "print(y_pred[:9])\n",
    "print(y_test[:9])"
   ]
  },
  {
   "cell_type": "code",
   "execution_count": 0,
   "metadata": {
    "colab": {
     "autoexec": {
      "startup": false,
      "wait_interval": 0
     }
    },
    "colab_type": "code",
    "collapsed": true,
    "id": "CT--y98_dr2T"
   },
   "outputs": [],
   "source": [
    "layer_dict = dict([(layer.name, layer) for layer in model.layers])"
   ]
  },
  {
   "cell_type": "code",
   "execution_count": 0,
   "metadata": {
    "colab": {
     "autoexec": {
      "startup": false,
      "wait_interval": 0
     }
    },
    "colab_type": "code",
    "collapsed": true,
    "id": "2GY4Upv4dsUR"
   },
   "outputs": [],
   "source": [
    "# import numpy as np\n",
    "# from matplotlib import pyplot as plt\n",
    "# from keras import backend as K\n",
    "# %matplotlib inline\n",
    "# # util function to convert a tensor into a valid image\n",
    "# def deprocess_image(x):\n",
    "#     # normalize tensor: center on 0., ensure std is 0.1\n",
    "#     x -= x.mean()\n",
    "#     x /= (x.std() + 1e-5)\n",
    "#     x *= 0.1\n",
    "\n",
    "#     # clip to [0, 1]\n",
    "#     x += 0.5\n",
    "#     x = np.clip(x, 0, 1)\n",
    "\n",
    "#     # convert to RGB array\n",
    "#     x *= 255\n",
    "#     #x = x.transpose((1, 2, 0))\n",
    "#     x = np.clip(x, 0, 255).astype('uint8')\n",
    "#     return x\n",
    "\n",
    "# def vis_img_in_filter(img = np.array(X_train[2]).reshape((1, 28, 28, 1)).astype(np.float64), \n",
    "#                       layer_name = 'conv2d_14'):\n",
    "#     layer_output = layer_dict[layer_name].output\n",
    "#     img_ascs = list()\n",
    "#     for filter_index in range(layer_output.shape[3]):\n",
    "#         # build a loss function that maximizes the activation\n",
    "#         # of the nth filter of the layer considered\n",
    "#         loss = K.mean(layer_output[:, :, :, filter_index])\n",
    "\n",
    "#         # compute the gradient of the input picture wrt this loss\n",
    "#         grads = K.gradients(loss, model.input)[0]\n",
    "\n",
    "#         # normalization trick: we normalize the gradient\n",
    "#         grads /= (K.sqrt(K.mean(K.square(grads))) + 1e-5)\n",
    "\n",
    "#         # this function returns the loss and grads given the input picture\n",
    "#         iterate = K.function([model.input], [loss, grads])\n",
    "\n",
    "#         # step size for gradient ascent\n",
    "#         step = 5.\n",
    "\n",
    "#         img_asc = np.array(img)\n",
    "#         # run gradient ascent for 20 steps\n",
    "#         for i in range(20):\n",
    "#             loss_value, grads_value = iterate([img_asc])\n",
    "#             img_asc += grads_value * step\n",
    "\n",
    "#         img_asc = img_asc[0]\n",
    "#         img_ascs.append(deprocess_image(img_asc).reshape((28, 28)))\n",
    "        \n",
    "#     if layer_output.shape[3] >= 35:\n",
    "#         plot_x, plot_y = 6, 6\n",
    "#     elif layer_output.shape[3] >= 23:\n",
    "#         plot_x, plot_y = 4, 6\n",
    "#     elif layer_output.shape[3] >= 11:\n",
    "#         plot_x, plot_y = 2, 6\n",
    "#     else:\n",
    "#         plot_x, plot_y = 1, 2\n",
    "#     fig, ax = plt.subplots(plot_x, plot_y, figsize = (12, 12))\n",
    "#     ax[0, 0].imshow(img.reshape((28, 28)), cmap = 'gray')\n",
    "#     ax[0, 0].set_title('Input image')\n",
    "#     fig.suptitle('Input image and %s filters' % (layer_name,))\n",
    "#     fig.tight_layout(pad = 0.3, rect = [0, 0, 0.9, 0.9])\n",
    "#     for (x, y) in [(i, j) for i in range(plot_x) for j in range(plot_y)]:\n",
    "#         if x == 0 and y == 0:\n",
    "#             continue\n",
    "#         ax[x, y].imshow(img_ascs[x * plot_y + y - 1], cmap = 'gray')\n",
    "#         ax[x, y].set_title('filter %d' % (x * plot_y + y - 1))\n",
    "\n",
    "# vis_img_in_filter()"
   ]
  },
  {
   "cell_type": "code",
   "execution_count": 0,
   "metadata": {
    "colab": {
     "autoexec": {
      "startup": false,
      "wait_interval": 0
     }
    },
    "colab_type": "code",
    "collapsed": true,
    "id": "9tvptcn8dxvp"
   },
   "outputs": [],
   "source": []
  }
 ],
 "metadata": {
  "accelerator": "GPU",
  "colab": {
   "collapsed_sections": [],
   "default_view": {},
   "name": "ASHIS_BATCH_3_ASSIGNMENT4A.ipynb",
   "provenance": [
    {
     "file_id": "1gZYwZdkgXBJRr624SqWJ9f452BmKNkNT",
     "timestamp": 1526009491441
    },
    {
     "file_id": "1JURGwe4e5Z7928Zv2eiJVPCQNc702huM",
     "timestamp": 1521864568638
    }
   ],
   "version": "0.3.2",
   "views": {}
  },
  "kernelspec": {
   "display_name": "Python 3",
   "language": "python",
   "name": "python3"
  },
  "language_info": {
   "codemirror_mode": {
    "name": "ipython",
    "version": 3
   },
   "file_extension": ".py",
   "mimetype": "text/x-python",
   "name": "python",
   "nbconvert_exporter": "python",
   "pygments_lexer": "ipython3",
   "version": "3.6.2"
  }
 },
 "nbformat": 4,
 "nbformat_minor": 1
}
